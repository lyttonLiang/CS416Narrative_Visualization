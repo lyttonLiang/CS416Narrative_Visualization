{
 "cells": [
  {
   "cell_type": "code",
   "execution_count": 15,
   "id": "f2c02062",
   "metadata": {},
   "outputs": [
    {
     "name": "stdout",
     "output_type": "stream",
     "text": [
      "data.ipynb                 script.js\r\n",
      "mental_health_summary.csv\r\n"
     ]
    }
   ],
   "source": [
    "ls"
   ]
  },
  {
   "cell_type": "code",
   "execution_count": 16,
   "id": "7f17c621",
   "metadata": {},
   "outputs": [],
   "source": [
    "import pandas as pd"
   ]
  },
  {
   "cell_type": "code",
   "execution_count": 17,
   "id": "05b142c8",
   "metadata": {},
   "outputs": [],
   "source": [
    "data = pd.read_csv(\"mental_health_summary.csv\")"
   ]
  },
  {
   "cell_type": "code",
   "execution_count": 18,
   "id": "63d867da",
   "metadata": {},
   "outputs": [
    {
     "name": "stdout",
     "output_type": "stream",
     "text": [
      "<class 'pandas.core.frame.DataFrame'>\n",
      "RangeIndex: 4509 entries, 0 to 4508\n",
      "Data columns (total 7 columns):\n",
      " #   Column         Non-Null Count  Dtype  \n",
      "---  ------         --------------  -----  \n",
      " 0   GENDER_LABEL   4509 non-null   object \n",
      " 1   EDUC_LEVEL     4509 non-null   object \n",
      " 2   AGE_GROUP      4509 non-null   object \n",
      " 3   MARSTAT_LABEL  4509 non-null   object \n",
      " 4   MH1_LABEL      4509 non-null   object \n",
      " 5   count          4509 non-null   int64  \n",
      " 6   percentage     4509 non-null   float64\n",
      "dtypes: float64(1), int64(1), object(5)\n",
      "memory usage: 246.7+ KB\n"
     ]
    }
   ],
   "source": [
    "data.info()"
   ]
  },
  {
   "cell_type": "code",
   "execution_count": 19,
   "id": "62f538b1",
   "metadata": {},
   "outputs": [
    {
     "data": {
      "text/html": [
       "<div>\n",
       "<style scoped>\n",
       "    .dataframe tbody tr th:only-of-type {\n",
       "        vertical-align: middle;\n",
       "    }\n",
       "\n",
       "    .dataframe tbody tr th {\n",
       "        vertical-align: top;\n",
       "    }\n",
       "\n",
       "    .dataframe thead th {\n",
       "        text-align: right;\n",
       "    }\n",
       "</style>\n",
       "<table border=\"1\" class=\"dataframe\">\n",
       "  <thead>\n",
       "    <tr style=\"text-align: right;\">\n",
       "      <th></th>\n",
       "      <th>GENDER_LABEL</th>\n",
       "      <th>EDUC_LEVEL</th>\n",
       "      <th>AGE_GROUP</th>\n",
       "      <th>MARSTAT_LABEL</th>\n",
       "      <th>MH1_LABEL</th>\n",
       "      <th>count</th>\n",
       "      <th>percentage</th>\n",
       "    </tr>\n",
       "  </thead>\n",
       "  <tbody>\n",
       "    <tr>\n",
       "      <th>0</th>\n",
       "      <td>Female</td>\n",
       "      <td>0 to 8 year</td>\n",
       "      <td>20s</td>\n",
       "      <td>Divorced, widowed</td>\n",
       "      <td>Alcohol or substance use disorders</td>\n",
       "      <td>9</td>\n",
       "      <td>0.618982</td>\n",
       "    </tr>\n",
       "    <tr>\n",
       "      <th>1</th>\n",
       "      <td>Female</td>\n",
       "      <td>0 to 8 year</td>\n",
       "      <td>20s</td>\n",
       "      <td>Divorced, widowed</td>\n",
       "      <td>Anxiety disorders</td>\n",
       "      <td>19</td>\n",
       "      <td>0.131889</td>\n",
       "    </tr>\n",
       "    <tr>\n",
       "      <th>2</th>\n",
       "      <td>Female</td>\n",
       "      <td>0 to 8 year</td>\n",
       "      <td>20s</td>\n",
       "      <td>Divorced, widowed</td>\n",
       "      <td>Bipolar disorders</td>\n",
       "      <td>34</td>\n",
       "      <td>0.377442</td>\n",
       "    </tr>\n",
       "    <tr>\n",
       "      <th>3</th>\n",
       "      <td>Female</td>\n",
       "      <td>0 to 8 year</td>\n",
       "      <td>20s</td>\n",
       "      <td>Divorced, widowed</td>\n",
       "      <td>Delirium/dementia disorders</td>\n",
       "      <td>1</td>\n",
       "      <td>0.255102</td>\n",
       "    </tr>\n",
       "    <tr>\n",
       "      <th>4</th>\n",
       "      <td>Female</td>\n",
       "      <td>0 to 8 year</td>\n",
       "      <td>20s</td>\n",
       "      <td>Divorced, widowed</td>\n",
       "      <td>Depressive disorders</td>\n",
       "      <td>61</td>\n",
       "      <td>0.236801</td>\n",
       "    </tr>\n",
       "  </tbody>\n",
       "</table>\n",
       "</div>"
      ],
      "text/plain": [
       "  GENDER_LABEL   EDUC_LEVEL AGE_GROUP      MARSTAT_LABEL  \\\n",
       "0       Female  0 to 8 year       20s  Divorced, widowed   \n",
       "1       Female  0 to 8 year       20s  Divorced, widowed   \n",
       "2       Female  0 to 8 year       20s  Divorced, widowed   \n",
       "3       Female  0 to 8 year       20s  Divorced, widowed   \n",
       "4       Female  0 to 8 year       20s  Divorced, widowed   \n",
       "\n",
       "                            MH1_LABEL  count  percentage  \n",
       "0  Alcohol or substance use disorders      9    0.618982  \n",
       "1                   Anxiety disorders     19    0.131889  \n",
       "2                   Bipolar disorders     34    0.377442  \n",
       "3         Delirium/dementia disorders      1    0.255102  \n",
       "4                Depressive disorders     61    0.236801  "
      ]
     },
     "execution_count": 19,
     "metadata": {},
     "output_type": "execute_result"
    }
   ],
   "source": [
    "data.head()"
   ]
  },
  {
   "cell_type": "code",
   "execution_count": 14,
   "id": "718ed821",
   "metadata": {},
   "outputs": [
    {
     "name": "stdout",
     "output_type": "stream",
     "text": [
      "EDUC_LEVEL\n",
      "12 (or GED) year     865\n",
      "unknown/invalid      858\n",
      "More than 12 year    815\n",
      "9 to 11 year         785\n",
      "0 to 8 year          709\n",
      "Special education    477\n",
      "Name: count, dtype: int64\n"
     ]
    }
   ],
   "source": [
    "print(data['EDUC_LEVEL'].value_counts())"
   ]
  },
  {
   "cell_type": "code",
   "execution_count": 22,
   "id": "d8c010eb",
   "metadata": {},
   "outputs": [],
   "source": [
    "education_map = {\n",
    "    \"0 to 8 year\": \"Middle School or below\",\n",
    "    \"9 to 11 year\": \"Some High School\",\n",
    "    \"12 (or GED) year\": \"High School Graduate\",\n",
    "    \"More than 12 year\": \"College or higher\",\n",
    "    \"Special education\": \"Special Education\",\n",
    "    \"unknown/invalid\": \"Unknown\"\n",
    "}\n",
    "\n",
    "# Apply the mapping\n",
    "data['EDUC_LEVEL'] = data['EDUC_LEVEL'].str.strip().map(education_map)\n"
   ]
  },
  {
   "cell_type": "code",
   "execution_count": 23,
   "id": "22833eb8",
   "metadata": {},
   "outputs": [
    {
     "name": "stdout",
     "output_type": "stream",
     "text": [
      "EDUC_LEVEL\n",
      "High School Graduate      865\n",
      "Unknown                   858\n",
      "College or higher         815\n",
      "Some High School          785\n",
      "Middle School or below    709\n",
      "Special Education         477\n",
      "Name: count, dtype: int64\n"
     ]
    }
   ],
   "source": [
    "print(data['EDUC_LEVEL'].value_counts())"
   ]
  },
  {
   "cell_type": "code",
   "execution_count": 25,
   "id": "2048fc7a",
   "metadata": {},
   "outputs": [],
   "source": [
    "data.to_csv(\"mental_health_summary.csv\", index=False)"
   ]
  },
  {
   "cell_type": "code",
   "execution_count": null,
   "id": "49c2b7b5",
   "metadata": {},
   "outputs": [],
   "source": []
  }
 ],
 "metadata": {
  "kernelspec": {
   "display_name": "Python 3 (ipykernel)",
   "language": "python",
   "name": "python3"
  },
  "language_info": {
   "codemirror_mode": {
    "name": "ipython",
    "version": 3
   },
   "file_extension": ".py",
   "mimetype": "text/x-python",
   "name": "python",
   "nbconvert_exporter": "python",
   "pygments_lexer": "ipython3",
   "version": "3.10.11"
  }
 },
 "nbformat": 4,
 "nbformat_minor": 5
}
